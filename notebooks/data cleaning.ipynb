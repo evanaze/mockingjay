{
 "cells": [
  {
   "cell_type": "code",
   "execution_count": 1,
   "id": "66657313",
   "metadata": {},
   "outputs": [],
   "source": [
    "import sqlite3\n",
    "import pandas as pd"
   ]
  },
  {
   "cell_type": "code",
   "execution_count": 6,
   "id": "eb69c92f",
   "metadata": {},
   "outputs": [],
   "source": [
    "min_words = 3\n",
    "\n",
    "conn = sqlite3.connect(\"../data/twitter.db\")\n",
    "cursor = conn.cursor()"
   ]
  },
  {
   "cell_type": "code",
   "execution_count": 3,
   "id": "cacd1de5",
   "metadata": {},
   "outputs": [],
   "source": [
    "data = cursor.execute(\"SELECT * from tweets_raw;\")\n",
    "raw_tweets = cursor.fetchall()\n",
    "#author_id = result[0][0]\n",
    "\n",
    "clean_df = pd.DataFrame(\n",
    "            [\n",
    "                (tweet[0], tweet[1], tweet[2])\n",
    "                for tweet in raw_tweets\n",
    "            ],\n",
    "            columns=[\"id\", \"author\", \"text\"],\n",
    "        )"
   ]
  },
  {
   "cell_type": "code",
   "execution_count": 4,
   "id": "660aa3cf",
   "metadata": {},
   "outputs": [
    {
     "data": {
      "text/plain": [
       "0       #Python Pop Quiz 🐍❓\\n\\nHere we have a dataclas...\n",
       "1       @mousevspython Thanks for checking out my mini...\n",
       "2       You can learn more about how the `ChainMap` in...\n",
       "3       Here's another example where you create a Chai...\n",
       "4       Let's look at an example of using `ChainMap` i...\n",
       "                              ...                        \n",
       "3706    I turned my silly 3-liner #Python script to co...\n",
       "3707    The PyDev of the Week is Luiz Gustavo Martins ...\n",
       "3708    One of my favorite #Python modules is `shutil`...\n",
       "3709    Discover how easy it is to download a file in ...\n",
       "3710    What is your favorite #Python editor for begin...\n",
       "Name: text, Length: 3711, dtype: object"
      ]
     },
     "execution_count": 4,
     "metadata": {},
     "output_type": "execute_result"
    }
   ],
   "source": [
    "clean_df.text"
   ]
  },
  {
   "cell_type": "code",
   "execution_count": 10,
   "id": "8a7d5764",
   "metadata": {},
   "outputs": [
    {
     "data": {
      "text/plain": [
       "\"#Python Pop Quiz 🐍❓\\n\\nHere we have a dataclass where I want to have a default list. But it doesn't work! Can you fix the code so it works? https://t.co/wmWKeAlVjh\""
      ]
     },
     "execution_count": 10,
     "metadata": {},
     "output_type": "execute_result"
    }
   ],
   "source": [
    "clean_df.loc[0].text.replace(\"\\n\", \". \")"
   ]
  },
  {
   "cell_type": "code",
   "execution_count": 12,
   "id": "8cb57a02",
   "metadata": {},
   "outputs": [
    {
     "data": {
      "text/html": [
       "<div>\n",
       "<style scoped>\n",
       "    .dataframe tbody tr th:only-of-type {\n",
       "        vertical-align: middle;\n",
       "    }\n",
       "\n",
       "    .dataframe tbody tr th {\n",
       "        vertical-align: top;\n",
       "    }\n",
       "\n",
       "    .dataframe thead th {\n",
       "        text-align: right;\n",
       "    }\n",
       "</style>\n",
       "<table border=\"1\" class=\"dataframe\">\n",
       "  <thead>\n",
       "    <tr style=\"text-align: right;\">\n",
       "      <th></th>\n",
       "      <th>id</th>\n",
       "      <th>author</th>\n",
       "      <th>text</th>\n",
       "    </tr>\n",
       "  </thead>\n",
       "  <tbody>\n",
       "    <tr>\n",
       "      <th>0</th>\n",
       "      <td>1542138596387438593</td>\n",
       "      <td>19067150</td>\n",
       "      <td>#Python Pop Quiz 🐍❓\\n\\nHere we have a dataclas...</td>\n",
       "    </tr>\n",
       "    <tr>\n",
       "      <th>1</th>\n",
       "      <td>1542071124737024002</td>\n",
       "      <td>19067150</td>\n",
       "      <td>@mousevspython Thanks for checking out my mini...</td>\n",
       "    </tr>\n",
       "    <tr>\n",
       "      <th>2</th>\n",
       "      <td>1542071120588939264</td>\n",
       "      <td>19067150</td>\n",
       "      <td>You can learn more about how the `ChainMap` in...</td>\n",
       "    </tr>\n",
       "    <tr>\n",
       "      <th>3</th>\n",
       "      <td>1542071115928977409</td>\n",
       "      <td>19067150</td>\n",
       "      <td>Here's another example where you create a Chai...</td>\n",
       "    </tr>\n",
       "    <tr>\n",
       "      <th>4</th>\n",
       "      <td>1542071111474634754</td>\n",
       "      <td>19067150</td>\n",
       "      <td>Let's look at an example of using `ChainMap` i...</td>\n",
       "    </tr>\n",
       "    <tr>\n",
       "      <th>...</th>\n",
       "      <td>...</td>\n",
       "      <td>...</td>\n",
       "      <td>...</td>\n",
       "    </tr>\n",
       "    <tr>\n",
       "      <th>3706</th>\n",
       "      <td>1542309718646996993</td>\n",
       "      <td>19067150</td>\n",
       "      <td>I turned my silly 3-liner #Python script to co...</td>\n",
       "    </tr>\n",
       "    <tr>\n",
       "      <th>3707</th>\n",
       "      <td>1542246549345927168</td>\n",
       "      <td>19067150</td>\n",
       "      <td>The PyDev of the Week is Luiz Gustavo Martins ...</td>\n",
       "    </tr>\n",
       "    <tr>\n",
       "      <th>3708</th>\n",
       "      <td>1542241312476471297</td>\n",
       "      <td>19067150</td>\n",
       "      <td>One of my favorite #Python modules is `shutil`...</td>\n",
       "    </tr>\n",
       "    <tr>\n",
       "      <th>3709</th>\n",
       "      <td>1542189544086306819</td>\n",
       "      <td>19067150</td>\n",
       "      <td>Discover how easy it is to download a file in ...</td>\n",
       "    </tr>\n",
       "    <tr>\n",
       "      <th>3710</th>\n",
       "      <td>1542180870857056256</td>\n",
       "      <td>19067150</td>\n",
       "      <td>What is your favorite #Python editor for begin...</td>\n",
       "    </tr>\n",
       "  </tbody>\n",
       "</table>\n",
       "<p>3711 rows × 3 columns</p>\n",
       "</div>"
      ],
      "text/plain": [
       "                       id    author  \\\n",
       "0     1542138596387438593  19067150   \n",
       "1     1542071124737024002  19067150   \n",
       "2     1542071120588939264  19067150   \n",
       "3     1542071115928977409  19067150   \n",
       "4     1542071111474634754  19067150   \n",
       "...                   ...       ...   \n",
       "3706  1542309718646996993  19067150   \n",
       "3707  1542246549345927168  19067150   \n",
       "3708  1542241312476471297  19067150   \n",
       "3709  1542189544086306819  19067150   \n",
       "3710  1542180870857056256  19067150   \n",
       "\n",
       "                                                   text  \n",
       "0     #Python Pop Quiz 🐍❓\\n\\nHere we have a dataclas...  \n",
       "1     @mousevspython Thanks for checking out my mini...  \n",
       "2     You can learn more about how the `ChainMap` in...  \n",
       "3     Here's another example where you create a Chai...  \n",
       "4     Let's look at an example of using `ChainMap` i...  \n",
       "...                                                 ...  \n",
       "3706  I turned my silly 3-liner #Python script to co...  \n",
       "3707  The PyDev of the Week is Luiz Gustavo Martins ...  \n",
       "3708  One of my favorite #Python modules is `shutil`...  \n",
       "3709  Discover how easy it is to download a file in ...  \n",
       "3710  What is your favorite #Python editor for begin...  \n",
       "\n",
       "[3711 rows x 3 columns]"
      ]
     },
     "execution_count": 12,
     "metadata": {},
     "output_type": "execute_result"
    }
   ],
   "source": [
    "clean_df"
   ]
  },
  {
   "cell_type": "code",
   "execution_count": 97,
   "id": "42bc2a7b",
   "metadata": {},
   "outputs": [
    {
     "data": {
      "text/html": [
       "<div>\n",
       "<style scoped>\n",
       "    .dataframe tbody tr th:only-of-type {\n",
       "        vertical-align: middle;\n",
       "    }\n",
       "\n",
       "    .dataframe tbody tr th {\n",
       "        vertical-align: top;\n",
       "    }\n",
       "\n",
       "    .dataframe thead th {\n",
       "        text-align: right;\n",
       "    }\n",
       "</style>\n",
       "<table border=\"1\" class=\"dataframe\">\n",
       "  <thead>\n",
       "    <tr style=\"text-align: right;\">\n",
       "      <th></th>\n",
       "      <th>id</th>\n",
       "      <th>author</th>\n",
       "      <th>text</th>\n",
       "    </tr>\n",
       "  </thead>\n",
       "  <tbody>\n",
       "    <tr>\n",
       "      <th>0</th>\n",
       "      <td>1542138596387438593</td>\n",
       "      <td>19067150</td>\n",
       "      <td>Pop Quiz 🐍❓. Here we have a dataclass where I ...</td>\n",
       "    </tr>\n",
       "    <tr>\n",
       "      <th>1</th>\n",
       "      <td>1542071124737024002</td>\n",
       "      <td>19067150</td>\n",
       "      <td>Thanks for checking out my mini-thread on coll...</td>\n",
       "    </tr>\n",
       "    <tr>\n",
       "      <th>2</th>\n",
       "      <td>1542071120588939264</td>\n",
       "      <td>19067150</td>\n",
       "      <td>You can learn more about how the ChainMap in m...</td>\n",
       "    </tr>\n",
       "    <tr>\n",
       "      <th>3</th>\n",
       "      <td>1542071115928977409</td>\n",
       "      <td>19067150</td>\n",
       "      <td>Heres another example where you create a Chain...</td>\n",
       "    </tr>\n",
       "    <tr>\n",
       "      <th>4</th>\n",
       "      <td>1542071111474634754</td>\n",
       "      <td>19067150</td>\n",
       "      <td>Lets look at an example of using ChainMap in  ...</td>\n",
       "    </tr>\n",
       "    <tr>\n",
       "      <th>...</th>\n",
       "      <td>...</td>\n",
       "      <td>...</td>\n",
       "      <td>...</td>\n",
       "    </tr>\n",
       "    <tr>\n",
       "      <th>3356</th>\n",
       "      <td>1542309718646996993</td>\n",
       "      <td>19067150</td>\n",
       "      <td>I turned my silly 3-liner  script to convert a...</td>\n",
       "    </tr>\n",
       "    <tr>\n",
       "      <th>3357</th>\n",
       "      <td>1542246549345927168</td>\n",
       "      <td>19067150</td>\n",
       "      <td>The PyDev of the Week is Luiz Gustavo Martins ...</td>\n",
       "    </tr>\n",
       "    <tr>\n",
       "      <th>3358</th>\n",
       "      <td>1542241312476471297</td>\n",
       "      <td>19067150</td>\n",
       "      <td>One of my favorite  modules is shutil 🐍🔥. It l...</td>\n",
       "    </tr>\n",
       "    <tr>\n",
       "      <th>3359</th>\n",
       "      <td>1542189544086306819</td>\n",
       "      <td>19067150</td>\n",
       "      <td>Discover how easy it is to download a file in ...</td>\n",
       "    </tr>\n",
       "    <tr>\n",
       "      <th>3360</th>\n",
       "      <td>1542180870857056256</td>\n",
       "      <td>19067150</td>\n",
       "      <td>What is your favorite  editor for beginners?</td>\n",
       "    </tr>\n",
       "  </tbody>\n",
       "</table>\n",
       "<p>3361 rows × 3 columns</p>\n",
       "</div>"
      ],
      "text/plain": [
       "                       id    author  \\\n",
       "0     1542138596387438593  19067150   \n",
       "1     1542071124737024002  19067150   \n",
       "2     1542071120588939264  19067150   \n",
       "3     1542071115928977409  19067150   \n",
       "4     1542071111474634754  19067150   \n",
       "...                   ...       ...   \n",
       "3356  1542309718646996993  19067150   \n",
       "3357  1542246549345927168  19067150   \n",
       "3358  1542241312476471297  19067150   \n",
       "3359  1542189544086306819  19067150   \n",
       "3360  1542180870857056256  19067150   \n",
       "\n",
       "                                                   text  \n",
       "0     Pop Quiz 🐍❓. Here we have a dataclass where I ...  \n",
       "1     Thanks for checking out my mini-thread on coll...  \n",
       "2     You can learn more about how the ChainMap in m...  \n",
       "3     Heres another example where you create a Chain...  \n",
       "4     Lets look at an example of using ChainMap in  ...  \n",
       "...                                                 ...  \n",
       "3356  I turned my silly 3-liner  script to convert a...  \n",
       "3357  The PyDev of the Week is Luiz Gustavo Martins ...  \n",
       "3358  One of my favorite  modules is shutil 🐍🔥. It l...  \n",
       "3359  Discover how easy it is to download a file in ...  \n",
       "3360       What is your favorite  editor for beginners?  \n",
       "\n",
       "[3361 rows x 3 columns]"
      ]
     },
     "execution_count": 97,
     "metadata": {},
     "output_type": "execute_result"
    }
   ],
   "source": [
    "repl = lambda s: re.sub(\"\\n+\", \" \", s.group(0))\n",
    "\n",
    "(clean_df\n",
    " .assign(\n",
    "     text = clean_df.text.replace(\"#\\\\w*|@\\\\w*|https?://t.co\\\\w*\", \"\", regex=True)\n",
    "                         .str.replace(\"[.,!?:;]\\n+\", repl, regex=True)\n",
    "                         .replace(\"\\n+\", \". \", regex=True)\n",
    "                         .replace(\"[`\\'\\\"]\", \"\", regex=True)\n",
    "                         .apply(lambda x: x.strip()),\n",
    "     n_words = lambda df: df.text.str.split().map(len))\n",
    " [lambda x: x.n_words >= min_words]\n",
    " .drop(\"n_words\", axis=1)\n",
    " .reset_index(drop=True)\n",
    ")\n"
   ]
  },
  {
   "cell_type": "code",
   "execution_count": 88,
   "id": "794b936a",
   "metadata": {},
   "outputs": [
    {
     "data": {
      "text/plain": [
       "0     Thanks for checking out my mini-thread on `co...\n",
       "dtype: object"
      ]
     },
     "execution_count": 88,
     "metadata": {},
     "output_type": "execute_result"
    }
   ],
   "source": [
    "repl = lambda s: re.sub(\"\\n+\", \" \", s.group(0))\n",
    "\n",
    "s = pd.Series(\"@mousevspython Thanks for checking out my mini-thread on `collections.ChainMap`!\\n\\nPython is an amazing language. Follow me to learn more! 🐍🔥\")\n",
    "s.replace(\"#\\w*|@\\w*|https?://t.co/\\w*\", \"\", regex=True).str.replace(\"[.,!?:;]\\n+\", repl, regex=True).replace(\"\\n+\", \". \", regex=True)"
   ]
  },
  {
   "cell_type": "code",
   "execution_count": 60,
   "id": "d9b0f25d",
   "metadata": {},
   "outputs": [
    {
     "data": {
      "text/plain": [
       "'test. I want to clean this text\\n\\nFor the good of mankind!'"
      ]
     },
     "execution_count": 60,
     "metadata": {},
     "output_type": "execute_result"
    }
   ],
   "source": [
    "import re\n",
    "\n",
    "\n",
    "\n",
    "s = \"test.\\n\\nI want to clean this text\\n\\nFor the good of mankind!\"\n",
    "re.sub(r\"[.,!?:;]\\n+\", repl, s)"
   ]
  },
  {
   "cell_type": "code",
   "execution_count": null,
   "id": "b68ab5f1",
   "metadata": {},
   "outputs": [],
   "source": []
  }
 ],
 "metadata": {
  "kernelspec": {
   "display_name": "placebot",
   "language": "python",
   "name": "placebot"
  },
  "language_info": {
   "codemirror_mode": {
    "name": "ipython",
    "version": 3
   },
   "file_extension": ".py",
   "mimetype": "text/x-python",
   "name": "python",
   "nbconvert_exporter": "python",
   "pygments_lexer": "ipython3",
   "version": "3.10.5"
  }
 },
 "nbformat": 4,
 "nbformat_minor": 5
}
