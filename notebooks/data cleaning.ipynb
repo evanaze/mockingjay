{
 "cells": [
  {
   "cell_type": "code",
   "execution_count": 4,
   "id": "66657313",
   "metadata": {},
   "outputs": [],
   "source": [
    "import sqlite3\n",
    "import pandas as pd"
   ]
  },
  {
   "cell_type": "code",
   "execution_count": 5,
   "id": "eb69c92f",
   "metadata": {},
   "outputs": [],
   "source": [
    "conn = sqlite3.connect(\"../data/twitter.db\")\n",
    "cursor = conn.cursor()"
   ]
  },
  {
   "cell_type": "code",
   "execution_count": 15,
   "id": "cacd1de5",
   "metadata": {},
   "outputs": [],
   "source": [
    "data = cursor.execute(\"SELECT * from tweets_raw;\")\n",
    "raw_tweets = cursor.fetchall()\n",
    "#author_id = result[0][0]\n",
    "\n",
    "clean_df = pd.DataFrame(\n",
    "            [\n",
    "                (tweet[0], tweet[1], tweet[2])\n",
    "                for tweet in raw_tweets\n",
    "            ],\n",
    "            columns=[\"id\", \"author\", \"text\"],\n",
    "        )"
   ]
  },
  {
   "cell_type": "code",
   "execution_count": 19,
   "id": "660aa3cf",
   "metadata": {},
   "outputs": [
    {
     "data": {
      "text/plain": [
       "0       #Python Pop Quiz 🐍❓\\n\\nHere we have a dataclas...\n",
       "1       @mousevspython Thanks for checking out my mini...\n",
       "2       You can learn more about how the `ChainMap` in...\n",
       "3       Here's another example where you create a Chai...\n",
       "4       Let's look at an example of using `ChainMap` i...\n",
       "                              ...                        \n",
       "3706    I turned my silly 3-liner #Python script to co...\n",
       "3707    The PyDev of the Week is Luiz Gustavo Martins ...\n",
       "3708    One of my favorite #Python modules is `shutil`...\n",
       "3709    Discover how easy it is to download a file in ...\n",
       "3710    What is your favorite #Python editor for begin...\n",
       "Name: text, Length: 3711, dtype: object"
      ]
     },
     "execution_count": 19,
     "metadata": {},
     "output_type": "execute_result"
    }
   ],
   "source": [
    "clean_df.text"
   ]
  },
  {
   "cell_type": "code",
   "execution_count": 78,
   "id": "42bc2a7b",
   "metadata": {},
   "outputs": [
    {
     "data": {
      "text/html": [
       "<div>\n",
       "<style scoped>\n",
       "    .dataframe tbody tr th:only-of-type {\n",
       "        vertical-align: middle;\n",
       "    }\n",
       "\n",
       "    .dataframe tbody tr th {\n",
       "        vertical-align: top;\n",
       "    }\n",
       "\n",
       "    .dataframe thead th {\n",
       "        text-align: right;\n",
       "    }\n",
       "</style>\n",
       "<table border=\"1\" class=\"dataframe\">\n",
       "  <thead>\n",
       "    <tr style=\"text-align: right;\">\n",
       "      <th></th>\n",
       "      <th>id</th>\n",
       "      <th>text</th>\n",
       "    </tr>\n",
       "  </thead>\n",
       "  <tbody>\n",
       "    <tr>\n",
       "      <th>0</th>\n",
       "      <td>1535548780535173120</td>\n",
       "      <td>best fake cryptic cube</td>\n",
       "    </tr>\n",
       "    <tr>\n",
       "      <th>1</th>\n",
       "      <td>1535548397158969344</td>\n",
       "      <td>close your door</td>\n",
       "    </tr>\n",
       "    <tr>\n",
       "      <th>2</th>\n",
       "      <td>1535547131645157376</td>\n",
       "      <td>what is your name</td>\n",
       "    </tr>\n",
       "    <tr>\n",
       "      <th>3</th>\n",
       "      <td>1535546957107560448</td>\n",
       "      <td>the game only a human could randomly make up s...</td>\n",
       "    </tr>\n",
       "    <tr>\n",
       "      <th>4</th>\n",
       "      <td>1535546828988379137</td>\n",
       "      <td>you gotta learn to take a joke</td>\n",
       "    </tr>\n",
       "    <tr>\n",
       "      <th>...</th>\n",
       "      <td>...</td>\n",
       "      <td>...</td>\n",
       "    </tr>\n",
       "    <tr>\n",
       "      <th>488</th>\n",
       "      <td>1534978313252327424</td>\n",
       "      <td>value is a construct</td>\n",
       "    </tr>\n",
       "    <tr>\n",
       "      <th>489</th>\n",
       "      <td>1534978080271323137</td>\n",
       "      <td>a moment of silence☯️😌💫</td>\n",
       "    </tr>\n",
       "    <tr>\n",
       "      <th>490</th>\n",
       "      <td>1534977934347227136</td>\n",
       "      <td>and save the world</td>\n",
       "    </tr>\n",
       "    <tr>\n",
       "      <th>491</th>\n",
       "      <td>1534977905796608000</td>\n",
       "      <td>lol have a seance</td>\n",
       "    </tr>\n",
       "    <tr>\n",
       "      <th>492</th>\n",
       "      <td>1534977843938983936</td>\n",
       "      <td>cult of personality?</td>\n",
       "    </tr>\n",
       "  </tbody>\n",
       "</table>\n",
       "<p>493 rows × 2 columns</p>\n",
       "</div>"
      ],
      "text/plain": [
       "                      id                                               text\n",
       "0    1535548780535173120                             best fake cryptic cube\n",
       "1    1535548397158969344                                    close your door\n",
       "2    1535547131645157376                                  what is your name\n",
       "3    1535546957107560448  the game only a human could randomly make up s...\n",
       "4    1535546828988379137                     you gotta learn to take a joke\n",
       "..                   ...                                                ...\n",
       "488  1534978313252327424                               value is a construct\n",
       "489  1534978080271323137                            a moment of silence☯️😌💫\n",
       "490  1534977934347227136                                 and save the world\n",
       "491  1534977905796608000                                  lol have a seance\n",
       "492  1534977843938983936                               cult of personality?\n",
       "\n",
       "[493 rows x 2 columns]"
      ]
     },
     "execution_count": 78,
     "metadata": {},
     "output_type": "execute_result"
    }
   ],
   "source": [
    "min_words = 3\n",
    "\n",
    "\n",
    "self.clean_df = (\n",
    "            self.clean_df[~self.clean_df.text.str.contains(\"https\")]\n",
    "            .assign(\n",
    "                n_words=self.clean_df.text.str.split().map(len),\n",
    "                text=self.clean_df.text.str.strip(),\n",
    "            )[lambda x: x.n_words >= self.min_words]\n",
    "            .drop(\"n_words\", axis=1)\n",
    "            .reset_index(drop=True)\n",
    "        )\n",
    "\n",
    "clean_data(df)"
   ]
  },
  {
   "cell_type": "code",
   "execution_count": null,
   "id": "c0e7b035",
   "metadata": {},
   "outputs": [],
   "source": []
  }
 ],
 "metadata": {
  "kernelspec": {
   "display_name": "placebot",
   "language": "python",
   "name": "placebot"
  },
  "language_info": {
   "codemirror_mode": {
    "name": "ipython",
    "version": 3
   },
   "file_extension": ".py",
   "mimetype": "text/x-python",
   "name": "python",
   "nbconvert_exporter": "python",
   "pygments_lexer": "ipython3",
   "version": "3.10.5"
  }
 },
 "nbformat": 4,
 "nbformat_minor": 5
}
